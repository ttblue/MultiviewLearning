{
 "cells": [
  {
   "cell_type": "code",
   "execution_count": 10,
   "metadata": {},
   "outputs": [],
   "source": [
    "%matplotlib inline\n",
    "\n",
    "import os\n",
    "import h5py"
   ]
  },
  {
   "cell_type": "code",
   "execution_count": null,
   "metadata": {},
   "outputs": [],
   "source": [
    "DATA_DIR = os.getenv(\"DATA_DIR\")\n",
    "# DATA_DIR = \"/usr0/home/sibiv/Research/Data/TransferLearning\"\n",
    "PIGVID_DIR = os.path.join(DATA_DIR, \"PigVideos\")"
   ]
  },
  {
   "cell_type": "code",
   "execution_count": 17,
   "metadata": {},
   "outputs": [],
   "source": [
    "pv_files = list(os.walk(PIGVID_DIR))\n",
    "data_files = sorted([f for f in pv_files[0][-1] if f[-4:] == \".mat\"])\n",
    "anno_files, spf_files, feat_files, mat_files = [], [], [], []\n",
    "\n",
    "for fl in data_files:\n",
    "  if fl[-9:] == \".anno.mat\": anno_files.append(fl)\n",
    "  elif fl[-8:] == \".spf.mat\": spf_files.append(fl)\n",
    "  elif fl[-9:] == \".feat.mat\": feat_files.append(fl)\n",
    "  else: mat_files.append(fl)"
   ]
  },
  {
   "cell_type": "code",
   "execution_count": 18,
   "metadata": {},
   "outputs": [
    {
     "data": {
      "text/plain": [
       "[]"
      ]
     },
     "execution_count": 18,
     "metadata": {},
     "output_type": "execute_result"
    }
   ],
   "source": [
    "anno_files"
   ]
  }
 ],
 "metadata": {
  "kernelspec": {
   "display_name": "Python 3",
   "language": "python",
   "name": "python3"
  },
  "language_info": {
   "codemirror_mode": {
    "name": "ipython",
    "version": 3
   },
   "file_extension": ".py",
   "mimetype": "text/x-python",
   "name": "python",
   "nbconvert_exporter": "python",
   "pygments_lexer": "ipython3",
   "version": "3.7.3"
  }
 },
 "nbformat": 4,
 "nbformat_minor": 2
}
