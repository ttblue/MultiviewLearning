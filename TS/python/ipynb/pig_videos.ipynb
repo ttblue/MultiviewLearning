{
 "cells": [
  {
   "cell_type": "code",
   "execution_count": 41,
   "metadata": {},
   "outputs": [],
   "source": [
    "%matplotlib inline\n",
    "\n",
    "import h5py\n",
    "import numpy as np\n",
    "import os\n",
    "import scipy.io as sio\n",
    "\n",
    "import matplotlib.pyplot as plt"
   ]
  },
  {
   "cell_type": "code",
   "execution_count": null,
   "metadata": {},
   "outputs": [],
   "source": [
    "DATA_DIR = os.getenv(\"DATA_DIR\")\n",
    "# DATA_DIR = \"/usr0/home/sibiv/Research/Data/TransferLearning\"\n",
    "PIGVID_DIR = os.path.join(DATA_DIR, \"PigVideos\")"
   ]
  },
  {
   "cell_type": "code",
   "execution_count": 28,
   "metadata": {},
   "outputs": [],
   "source": [
    "pv_files = list(os.walk(PIGVID_DIR))\n",
    "data_files = sorted([f for f in pv_files[0][-1] if f[-4:] == \".mat\"])\n",
    "anno_files, spf_files, feat_files, mat_files = [], [], [], []\n",
    "\n",
    "for fl in data_files:\n",
    "  if fl[-9:] == \".anno.mat\": anno_files.append(os.path.join(PIGVID_DIR, fl))\n",
    "  elif fl[-8:] == \".spf.mat\": spf_files.append(os.path.join(PIGVID_DIR, fl))\n",
    "  elif fl[-9:] == \".feat.mat\": feat_files.append(os.path.join(PIGVID_DIR, fl))\n",
    "  else: mat_files.append(os.path.join(PIGVID_DIR, fl))"
   ]
  },
  {
   "cell_type": "code",
   "execution_count": 31,
   "metadata": {},
   "outputs": [],
   "source": [
    "npts = 10\n",
    "anno_data, spf_data, feat_data, mat_data = {}, {}, {}, {}\n",
    "\n",
    "for idx, (afl, sfl, ffl, mfl) in enumerate(zip(anno_files, spf_files, feat_files, mat_files)):\n",
    "  if idx >= npts:\n",
    "    break\n",
    "  anno_data[idx] = sio.loadmat(afl)\n",
    "  spf_data[idx] = h5py.File(sfl, 'r')\n",
    "  feat_data[idx] = sio.loadmat(ffl)\n",
    "  mat_data[idx] = h5py.File(mfl, 'r')\n",
    "  "
   ]
  },
  {
   "cell_type": "code",
   "execution_count": 38,
   "metadata": {},
   "outputs": [
    {
     "name": "stdout",
     "output_type": "stream",
     "text": [
      "(37509, 122)\n",
      "(480, 720)\n"
     ]
    }
   ],
   "source": [
    "print(feat_data[0][\"features\"].shape)\n",
    "print(anno_data[0][\"labels\"].shape)"
   ]
  },
  {
   "cell_type": "code",
   "execution_count": 50,
   "metadata": {},
   "outputs": [
    {
     "data": {
      "text/plain": [
       "<matplotlib.image.AxesImage at 0x7fe9dad80438>"
      ]
     },
     "execution_count": 50,
     "metadata": {},
     "output_type": "execute_result"
    },
    {
     "data": {
      "image/png": "[encoded data removed]",
      "text/plain": [
       "<Figure size 432x288 with 1 Axes>"
      ]
     },
     "metadata": {
      "needs_background": "light"
     },
     "output_type": "display_data"
    },
    {
     "data": {
      "image/png": "[encoded data removed]",
      "text/plain": [
       "<Figure size 432x288 with 1 Axes>"
      ]
     },
     "metadata": {
      "needs_background": "light"
     },
     "output_type": "display_data"
    }
   ],
   "source": [
    "plt.imshow(anno_data[0][\"labels\"])\n",
    "plt.figure()\n",
    "plt.imshow(anno_data[0][\"lpoints\"])"
   ]
  },
  {
   "cell_type": "code",
   "execution_count": 48,
   "metadata": {},
   "outputs": [
    {
     "name": "stdout",
     "output_type": "stream",
     "text": [
      "labels (480, 720)\n",
      "lidx (12893, 1)\n",
      "lpoints (480, 720)\n"
     ]
    }
   ],
   "source": [
    "for key, val in anno_data[0].items():\n",
    "  if isinstance(val, np.ndarray):\n",
    "    print(key, val.shape)"
   ]
  },
  {
   "cell_type": "code",
   "execution_count": 52,
   "metadata": {},
   "outputs": [],
   "source": [
    "lidx = anno_data[0][\"lidx\"]"
   ]
  }
 ],
 "metadata": {
  "kernelspec": {
   "display_name": "Python 3",
   "language": "python",
   "name": "python3"
  },
  "language_info": {
   "codemirror_mode": {
    "name": "ipython",
    "version": 3
   },
   "file_extension": ".py",
   "mimetype": "text/x-python",
   "name": "python",
   "nbconvert_exporter": "python",
   "pygments_lexer": "ipython3",
   "version": "3.7.3"
  }
 },
 "nbformat": 4,
 "nbformat_minor": 2
}
